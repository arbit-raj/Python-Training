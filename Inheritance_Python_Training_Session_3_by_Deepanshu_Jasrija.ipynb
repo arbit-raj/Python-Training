{
  "nbformat": 4,
  "nbformat_minor": 0,
  "metadata": {
    "colab": {
      "name": "Inheritance_Python Training Session 3 by Deepanshu Jasrija.ipynb",
      "provenance": [],
      "collapsed_sections": [],
      "authorship_tag": "ABX9TyMBmIAF30UWhEhYjS5oPPhC",
      "include_colab_link": true
    },
    "kernelspec": {
      "name": "python3",
      "display_name": "Python 3"
    },
    "language_info": {
      "name": "python"
    }
  },
  "cells": [
    {
      "cell_type": "markdown",
      "metadata": {
        "id": "view-in-github",
        "colab_type": "text"
      },
      "source": [
        "<a href=\"https://colab.research.google.com/github/arbit-raj/Python-Training/blob/main/Inheritance_Python_Training_Session_3_by_Deepanshu_Jasrija.ipynb\" target=\"_parent\"><img src=\"https://colab.research.google.com/assets/colab-badge.svg\" alt=\"Open In Colab\"/></a>"
      ]
    },
    {
      "cell_type": "code",
      "metadata": {
        "id": "UNTzV020wiI7"
      },
      "source": [
        "#initializing the training class\n",
        "class Training:\n",
        "  def __init__(self, name, level):\n",
        "    self.name = name\n",
        "    self.level = level\n",
        "\n",
        "  def printo(self):\n",
        "    print(\"Hi Training name is \"+self.name)\n",
        "    print(\"Hi Training level is \"+str(self.level))"
      ],
      "execution_count": 5,
      "outputs": []
    },
    {
      "cell_type": "code",
      "metadata": {
        "colab": {
          "base_uri": "https://localhost:8080/"
        },
        "id": "H0rjgPDXz5jZ",
        "outputId": "a92164a0-f872-4816-e17c-1bb210bfbd57"
      },
      "source": [
        "p1= Training(\"Python Training\",10)\n",
        "p1.printo()"
      ],
      "execution_count": 7,
      "outputs": [
        {
          "output_type": "stream",
          "text": [
            "Hi Training name is Python Training\n",
            "Hi Training level is 10\n"
          ],
          "name": "stdout"
        }
      ]
    },
    {
      "cell_type": "code",
      "metadata": {
        "id": "YnIjUK6Q0B6K"
      },
      "source": [
        "del p1.level\n",
        "del p1"
      ],
      "execution_count": 8,
      "outputs": []
    },
    {
      "cell_type": "code",
      "metadata": {
        "id": "UBjQkxRR1PbY"
      },
      "source": [
        "#creating empty class\n",
        "class Person:\n",
        "  pass"
      ],
      "execution_count": 9,
      "outputs": []
    },
    {
      "cell_type": "code",
      "metadata": {
        "id": "kVWRWh4V1V4f"
      },
      "source": [
        "class summing:\n",
        "  def __init__(obj,num1,num2):\n",
        "    obj.num1 = num1\n",
        "    obj.num2 = num2\n",
        "\n",
        "  def prints(obj):\n",
        "    print(\"Print is \"+str(obj.num1)+str(obj.num2))"
      ],
      "execution_count": 27,
      "outputs": []
    },
    {
      "cell_type": "code",
      "metadata": {
        "colab": {
          "base_uri": "https://localhost:8080/"
        },
        "id": "FgUMUb8I2rV2",
        "outputId": "a375f9fa-519e-4563-8653-13cad53e5788"
      },
      "source": [
        "tr1= summing(1,2)\n",
        "tr1.prints()"
      ],
      "execution_count": 28,
      "outputs": [
        {
          "output_type": "stream",
          "text": [
            "Print is 12\n"
          ],
          "name": "stdout"
        }
      ]
    },
    {
      "cell_type": "code",
      "metadata": {
        "id": "SYbvRBEm29EH"
      },
      "source": [
        "class Trainer:\n",
        "  def __init__(self,fname,lname):\n",
        "    self.fname= fname\n",
        "    self.lname= lname\n",
        "\n",
        "  def printname(self):\n",
        "    print(self.fname, self.lname)\n"
      ],
      "execution_count": 15,
      "outputs": []
    },
    {
      "cell_type": "code",
      "metadata": {
        "colab": {
          "base_uri": "https://localhost:8080/"
        },
        "id": "2ALr1YZl3pNM",
        "outputId": "e81033c7-18cf-42cb-8b77-22beb431df9d"
      },
      "source": [
        "x= Trainer(\"Deepanshu\", \"Pasrija\")\n",
        "x.printname()"
      ],
      "execution_count": 17,
      "outputs": [
        {
          "output_type": "stream",
          "text": [
            "Deepanshu Pasrija\n"
          ],
          "name": "stdout"
        }
      ]
    },
    {
      "cell_type": "code",
      "metadata": {
        "id": "8K5TeFRK7htr"
      },
      "source": [
        "#JUGAAD\n",
        "class summingv2:\n",
        "  def __init__(res,num1,num2):\n",
        "    res.num1=int(num1)\n",
        "    res.num2=int(num2)\n",
        "    res.summed=num1+num2\n",
        "\n",
        "  def printres(res):\n",
        "    print(\"Sum is \"+str(res.summed))"
      ],
      "execution_count": 47,
      "outputs": []
    },
    {
      "cell_type": "code",
      "metadata": {
        "colab": {
          "base_uri": "https://localhost:8080/"
        },
        "id": "RSUv7BKz3wZw",
        "outputId": "74c99a5a-fca9-4c56-8cb8-36d7f7531cf4"
      },
      "source": [
        "r1= summingv2(1,2)\n",
        "r1.printres()"
      ],
      "execution_count": 48,
      "outputs": [
        {
          "output_type": "stream",
          "text": [
            "Sum is 3\n"
          ],
          "name": "stdout"
        }
      ]
    },
    {
      "cell_type": "code",
      "metadata": {
        "id": "W5RB8K_37y3H"
      },
      "source": [
        "class Person:\n",
        "  def __init__(self,fname,lname):\n",
        "    self.fname=fname\n",
        "    self.lname=lname\n",
        "\n",
        "  def printname(self):\n",
        "    print(self.fname,self.lname)\n",
        "\n",
        "class Student(Person):\n",
        "  pass\n"
      ],
      "execution_count": 35,
      "outputs": []
    },
    {
      "cell_type": "code",
      "metadata": {
        "colab": {
          "base_uri": "https://localhost:8080/"
        },
        "id": "fmBgFGd68xXU",
        "outputId": "d4778f0c-917c-4c24-cc8f-60100207ee3a"
      },
      "source": [
        "x = Student(\"Deepanshu\", \"Pasrija\")\n",
        "x.printname()"
      ],
      "execution_count": 36,
      "outputs": [
        {
          "output_type": "stream",
          "text": [
            "Deepanshu Pasrija\n"
          ],
          "name": "stdout"
        }
      ]
    },
    {
      "cell_type": "code",
      "metadata": {
        "id": "BAJp-ff587Y1"
      },
      "source": [
        "class Person:\n",
        "  def __init__(self,fname,lname):\n",
        "    self.firstname=fname\n",
        "    self.lastname=lname\n",
        "  \n",
        "  def printname(self):\n",
        "    print(self.firstname,self.firstname)\n",
        "\n",
        "class Student(Person):\n",
        "  def __init__(self,fname,lname):\n",
        "    self.fname = fname\n",
        "    self.lname = lname"
      ],
      "execution_count": 49,
      "outputs": []
    },
    {
      "cell_type": "code",
      "metadata": {
        "colab": {
          "base_uri": "https://localhost:8080/",
          "height": 305
        },
        "id": "tPvmoruEAycw",
        "outputId": "5cc8c3d3-1052-472b-cf60-958703b4ca64"
      },
      "source": [
        "x = Student(\"Mike\",\"Tyson\")\n",
        "x.printname()"
      ],
      "execution_count": 50,
      "outputs": [
        {
          "output_type": "error",
          "ename": "AttributeError",
          "evalue": "ignored",
          "traceback": [
            "\u001b[0;31m---------------------------------------------------------------------------\u001b[0m",
            "\u001b[0;31mAttributeError\u001b[0m                            Traceback (most recent call last)",
            "\u001b[0;32m<ipython-input-50-40a43991aa80>\u001b[0m in \u001b[0;36m<module>\u001b[0;34m()\u001b[0m\n\u001b[1;32m      1\u001b[0m \u001b[0mx\u001b[0m \u001b[0;34m=\u001b[0m \u001b[0mStudent\u001b[0m\u001b[0;34m(\u001b[0m\u001b[0;34m\"Mike\"\u001b[0m\u001b[0;34m,\u001b[0m\u001b[0;34m\"Tyson\"\u001b[0m\u001b[0;34m)\u001b[0m\u001b[0;34m\u001b[0m\u001b[0;34m\u001b[0m\u001b[0m\n\u001b[0;32m----> 2\u001b[0;31m \u001b[0mx\u001b[0m\u001b[0;34m.\u001b[0m\u001b[0mprintname\u001b[0m\u001b[0;34m(\u001b[0m\u001b[0;34m)\u001b[0m\u001b[0;34m\u001b[0m\u001b[0;34m\u001b[0m\u001b[0m\n\u001b[0m",
            "\u001b[0;32m<ipython-input-49-866d44c9125f>\u001b[0m in \u001b[0;36mprintname\u001b[0;34m(self)\u001b[0m\n\u001b[1;32m      5\u001b[0m \u001b[0;34m\u001b[0m\u001b[0m\n\u001b[1;32m      6\u001b[0m   \u001b[0;32mdef\u001b[0m \u001b[0mprintname\u001b[0m\u001b[0;34m(\u001b[0m\u001b[0mself\u001b[0m\u001b[0;34m)\u001b[0m\u001b[0;34m:\u001b[0m\u001b[0;34m\u001b[0m\u001b[0;34m\u001b[0m\u001b[0m\n\u001b[0;32m----> 7\u001b[0;31m     \u001b[0mprint\u001b[0m\u001b[0;34m(\u001b[0m\u001b[0mself\u001b[0m\u001b[0;34m.\u001b[0m\u001b[0mfirstname\u001b[0m\u001b[0;34m,\u001b[0m\u001b[0mself\u001b[0m\u001b[0;34m.\u001b[0m\u001b[0mfirstname\u001b[0m\u001b[0;34m)\u001b[0m\u001b[0;34m\u001b[0m\u001b[0;34m\u001b[0m\u001b[0m\n\u001b[0m\u001b[1;32m      8\u001b[0m \u001b[0;34m\u001b[0m\u001b[0m\n\u001b[1;32m      9\u001b[0m \u001b[0;32mclass\u001b[0m \u001b[0mStudent\u001b[0m\u001b[0;34m(\u001b[0m\u001b[0mPerson\u001b[0m\u001b[0;34m)\u001b[0m\u001b[0;34m:\u001b[0m\u001b[0;34m\u001b[0m\u001b[0;34m\u001b[0m\u001b[0m\n",
            "\u001b[0;31mAttributeError\u001b[0m: 'Student' object has no attribute 'firstname'"
          ]
        }
      ]
    },
    {
      "cell_type": "code",
      "metadata": {
        "id": "NsE0Ga_kA0La"
      },
      "source": [
        "class Person:\n",
        "  def __init__(self,fname,lname):\n",
        "    self.firstname=fname\n",
        "    self.lastname=lname\n",
        "  \n",
        "  def printname(self):\n",
        "    print(self.firstname,self.lastname)\n",
        "\n",
        "class Student(Person):\n",
        "  def __init__(self,fname,lname):\n",
        "    Person.__init__(self,fname,lname)"
      ],
      "execution_count": 51,
      "outputs": []
    },
    {
      "cell_type": "code",
      "metadata": {
        "colab": {
          "base_uri": "https://localhost:8080/"
        },
        "id": "jQnGBWmZA5Rx",
        "outputId": "2a203793-bb8f-4de4-c85f-8e963c9d0da5"
      },
      "source": [
        "x = Student(\"Mike\",\"Tyson\")\n",
        "x.printname()"
      ],
      "execution_count": 52,
      "outputs": [
        {
          "output_type": "stream",
          "text": [
            "Mike Tyson\n"
          ],
          "name": "stdout"
        }
      ]
    },
    {
      "cell_type": "code",
      "metadata": {
        "id": "EMs7IEPsA7Oo"
      },
      "source": [
        "class Person:\n",
        "  def __init__(self,fname,lname):\n",
        "    self.firstname=fname\n",
        "    self.lastname=lname\n",
        "  \n",
        "  def printname(self):\n",
        "    print(self.firstname,self.lastname)\n",
        "\n",
        "class Student(Person):\n",
        "  def __init__(self,fname,lname):\n",
        "    super().__init__(fname,lname)"
      ],
      "execution_count": 55,
      "outputs": []
    },
    {
      "cell_type": "code",
      "metadata": {
        "colab": {
          "base_uri": "https://localhost:8080/"
        },
        "id": "cyapNeLCCgTY",
        "outputId": "6eb0a9f6-90de-46d3-fe10-c70c435cf4d9"
      },
      "source": [
        "x = Student(\"Mike\",\"Tyson\")\n",
        "x.printname()"
      ],
      "execution_count": 56,
      "outputs": [
        {
          "output_type": "stream",
          "text": [
            "Mike Tyson\n"
          ],
          "name": "stdout"
        }
      ]
    },
    {
      "cell_type": "code",
      "metadata": {
        "id": "y6YfDcRhChsk"
      },
      "source": [
        ""
      ],
      "execution_count": null,
      "outputs": []
    }
  ]
}