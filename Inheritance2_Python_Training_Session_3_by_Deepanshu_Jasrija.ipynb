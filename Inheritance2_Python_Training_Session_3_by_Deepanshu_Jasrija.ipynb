{
  "nbformat": 4,
  "nbformat_minor": 0,
  "metadata": {
    "colab": {
      "name": "Inheritance2_Python Training Session 3 by Deepanshu Jasrija.ipynb",
      "provenance": [],
      "collapsed_sections": [],
      "authorship_tag": "ABX9TyOZxhnmMjrmdtx/TxDS/naM",
      "include_colab_link": true
    },
    "kernelspec": {
      "name": "python3",
      "display_name": "Python 3"
    },
    "language_info": {
      "name": "python"
    }
  },
  "cells": [
    {
      "cell_type": "markdown",
      "metadata": {
        "id": "view-in-github",
        "colab_type": "text"
      },
      "source": [
        "<a href=\"https://colab.research.google.com/github/arbit-raj/Python-Training/blob/main/Inheritance2_Python_Training_Session_3_by_Deepanshu_Jasrija.ipynb\" target=\"_parent\"><img src=\"https://colab.research.google.com/assets/colab-badge.svg\" alt=\"Open In Colab\"/></a>"
      ]
    },
    {
      "cell_type": "code",
      "metadata": {
        "id": "ZY_V8TkhFRMR"
      },
      "source": [
        "class Employee:\n",
        "  def __init__(self,id,name):\n",
        "    self.id=id\n",
        "    self.name=name"
      ],
      "execution_count": 1,
      "outputs": []
    },
    {
      "cell_type": "code",
      "metadata": {
        "id": "NTwnaliVDH-r"
      },
      "source": [
        "class PayrollSystem:\n",
        "  def calculate_payroll(self, employees):\n",
        "    print(\"Calculating Payroll\")\n",
        "    for employee in employees:\n",
        "      print(f'Payroll for:{employee.id} - {employee.name}')\n",
        "      print(f'- Check amount:{employee.calculate_payroll()}')\n",
        "      print(\"\")"
      ],
      "execution_count": 2,
      "outputs": []
    },
    {
      "cell_type": "code",
      "metadata": {
        "id": "Wg3eV-CTGrys"
      },
      "source": [
        "class SalaryEmployee(Employee):\n",
        "  def __init__(self,id,name,weekly_salary):\n",
        "    super().__init__(id,name)\n",
        "    self.weekly_salary = weekly_salary\n",
        "\n",
        "  def calculate_payroll(self):\n",
        "    return self.weekly_salary"
      ],
      "execution_count": 5,
      "outputs": []
    },
    {
      "cell_type": "code",
      "metadata": {
        "id": "af9Jjfc0IEED"
      },
      "source": [
        "class HourlyEmployee(Employee):\n",
        "  def __init__(self,id,name,hours_worked,hour_rate):\n",
        "    super().__init__(id,name)\n",
        "    self.hours_worked = hours_worked\n",
        "    self.hour_rate = hour_rate\n",
        "\n",
        "  def calculate_payroll(self):\n",
        "    return self.hours_worked*self.hour_rate"
      ],
      "execution_count": 11,
      "outputs": []
    },
    {
      "cell_type": "code",
      "metadata": {
        "id": "skbUg66jI2Fz"
      },
      "source": [
        "class CommissionEmployee(SalaryEmployee):\n",
        "  def __init__(self,id,name,weekly_salary,commission):\n",
        "    super().__init__(id,name,weekly_salary)\n",
        "    self.commission=commission\n",
        "\n",
        "  def calculate_payroll(self):\n",
        "    fixed= super().calculate_payroll()\n",
        "    return fixed + self.commission"
      ],
      "execution_count": 13,
      "outputs": []
    },
    {
      "cell_type": "code",
      "metadata": {
        "colab": {
          "base_uri": "https://localhost:8080/"
        },
        "id": "y0WUe7LsJu5a",
        "outputId": "d36f1d9b-d0cb-4429-f3e8-557006949c8c"
      },
      "source": [
        "salary_employee = SalaryEmployee(1, \"John\", 1500)\n",
        "hourly_employee = HourlyEmployee(2, \"Jane\",40,15)\n",
        "commission_employee = CommissionEmployee(3, \"Ray\", 1000, 250)\n",
        "\n",
        "payroll_system = PayrollSystem()\n",
        "payroll_system.calculate_payroll([\n",
        "                                  salary_employee,\n",
        "                                  hourly_employee,\n",
        "                                  commission_employee\n",
        "])"
      ],
      "execution_count": 14,
      "outputs": [
        {
          "output_type": "stream",
          "text": [
            "Calculating Payroll\n",
            "Payroll for:1 - John\n",
            "- Check amount:1500\n",
            "\n",
            "Payroll for:2 - Jane\n",
            "- Check amount:600\n",
            "\n",
            "Payroll for:3 - Ray\n",
            "- Check amount:1250\n",
            "\n"
          ],
          "name": "stdout"
        }
      ]
    },
    {
      "cell_type": "code",
      "metadata": {
        "id": "Zp0US4b5PLHa"
      },
      "source": [
        ""
      ],
      "execution_count": null,
      "outputs": []
    }
  ]
}