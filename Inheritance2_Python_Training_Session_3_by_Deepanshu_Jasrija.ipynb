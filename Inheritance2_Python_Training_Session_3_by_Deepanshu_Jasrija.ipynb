{
  "nbformat": 4,
  "nbformat_minor": 0,
  "metadata": {
    "colab": {
      "name": "Inheritance2_Python Training Session 3 by Deepanshu Jasrija.ipynb",
      "provenance": [],
      "collapsed_sections": [],
      "authorship_tag": "ABX9TyNJv+VqPyBhEKuO3LI7Rf7j",
      "include_colab_link": true
    },
    "kernelspec": {
      "name": "python3",
      "display_name": "Python 3"
    },
    "language_info": {
      "name": "python"
    }
  },
  "cells": [
    {
      "cell_type": "markdown",
      "metadata": {
        "id": "view-in-github",
        "colab_type": "text"
      },
      "source": [
        "<a href=\"https://colab.research.google.com/github/arbit-raj/Python-Training/blob/main/Inheritance2_Python_Training_Session_3_by_Deepanshu_Jasrija.ipynb\" target=\"_parent\"><img src=\"https://colab.research.google.com/assets/colab-badge.svg\" alt=\"Open In Colab\"/></a>"
      ]
    },
    {
      "cell_type": "code",
      "metadata": {
        "id": "ZY_V8TkhFRMR"
      },
      "source": [
        "class Employee:\n",
        "  def __init__(self,id,name):\n",
        "    self.id=id\n",
        "    self.name=name"
      ],
      "execution_count": 1,
      "outputs": []
    },
    {
      "cell_type": "code",
      "metadata": {
        "id": "NTwnaliVDH-r"
      },
      "source": [
        "class PayrollSystem:\n",
        "  def calculate_payrolls(self, employees):\n",
        "    print(\"Calculating Payroll\")\n",
        "    for employee in employees:\n",
        "      print(f'Payroll for:{employee.id} - {employee.name}')\n",
        "      print(f'- Check amount:{employee.calculate_payroll()}')\n",
        "      print(\"\")"
      ],
      "execution_count": 2,
      "outputs": []
    },
    {
      "cell_type": "code",
      "metadata": {
        "id": "Wg3eV-CTGrys"
      },
      "source": [
        "#salary employee takes employee object\n",
        "class SalaryEmployee(Employee):\n",
        "  def __init__(self,id,name,weekly_salary):\n",
        "    super().__init__(id,name)\n",
        "    self.weekly_salary = weekly_salary\n",
        "\n",
        "  def calculate_payroll(self):\n",
        "    return self.weekly_salary"
      ],
      "execution_count": 3,
      "outputs": []
    },
    {
      "cell_type": "code",
      "metadata": {
        "id": "af9Jjfc0IEED"
      },
      "source": [
        "class HourlyEmployee(Employee):\n",
        "  def __init__(self,id,name,hours_worked,hour_rate):\n",
        "    super().__init__(id,name)\n",
        "    self.hours_worked = hours_worked\n",
        "    self.hour_rate = hour_rate\n",
        "\n",
        "  def calculate_payroll(self):\n",
        "    return self.hours_worked*self.hour_rate"
      ],
      "execution_count": 4,
      "outputs": []
    },
    {
      "cell_type": "code",
      "metadata": {
        "id": "skbUg66jI2Fz"
      },
      "source": [
        "#commission employee takes salary employee object. which has employee object\n",
        "class CommissionEmployee(SalaryEmployee):\n",
        "  def __init__(self,id,name,weekly_salary,commission):\n",
        "    super().__init__(id,name,weekly_salary)\n",
        "    self.commission=commission\n",
        "\n",
        "  def calculate_payroll(self):\n",
        "    fixed= super().calculate_payroll()\n",
        "    return fixed + self.commission"
      ],
      "execution_count": 5,
      "outputs": []
    },
    {
      "cell_type": "code",
      "metadata": {
        "colab": {
          "base_uri": "https://localhost:8080/"
        },
        "id": "y0WUe7LsJu5a",
        "outputId": "df103ba0-b839-4140-d58a-c6e9e0c7c9fc"
      },
      "source": [
        "salary_employee = SalaryEmployee(1, \"John\", 1500)\n",
        "hourly_employee = HourlyEmployee(2, \"Jane\",40,15)\n",
        "commission_employee = CommissionEmployee(3, \"Ray\", 1000, 250)\n",
        "\n",
        "payroll_system = PayrollSystem()\n",
        "payroll_system.calculate_payrolls([\n",
        "                                  salary_employee,\n",
        "                                  hourly_employee,\n",
        "                                  commission_employee\n",
        "])"
      ],
      "execution_count": 6,
      "outputs": [
        {
          "output_type": "stream",
          "text": [
            "Calculating Payroll\n",
            "Payroll for:1 - John\n",
            "- Check amount:1500\n",
            "\n",
            "Payroll for:2 - Jane\n",
            "- Check amount:600\n",
            "\n",
            "Payroll for:3 - Ray\n",
            "- Check amount:1250\n",
            "\n"
          ],
          "name": "stdout"
        }
      ]
    },
    {
      "cell_type": "code",
      "metadata": {
        "id": "Zp0US4b5PLHa"
      },
      "source": [
        "#self tried\n",
        "class Manager(SalaryEmployee):\n",
        "  def __init__(self,id,name,weekly_salary,hours):\n",
        "    super().__init__(id,name,weekly_salary)\n",
        "    self.hours= hours\n",
        "\n",
        "  def printmanager(self):\n",
        "    salary = super().calculate_payroll()\n",
        "    print(f'{self.name} with {self.id} ID spends {self.hours} a week to earn {salary}')"
      ],
      "execution_count": 7,
      "outputs": []
    },
    {
      "cell_type": "code",
      "metadata": {
        "colab": {
          "base_uri": "https://localhost:8080/"
        },
        "id": "_agz_Z_ldcOJ",
        "outputId": "96b47363-9d89-4130-dc89-681e03a41360"
      },
      "source": [
        "m= Manager(91,\"Manager\",2000,36)\n",
        "m.printmanager()"
      ],
      "execution_count": 8,
      "outputs": [
        {
          "output_type": "stream",
          "text": [
            "Manager with 91 ID spends 36 a week to earn 2000\n"
          ],
          "name": "stdout"
        }
      ]
    },
    {
      "cell_type": "code",
      "metadata": {
        "id": "2h_QZfVRdnmY"
      },
      "source": [
        "#trainer made\n",
        "class Manager(SalaryEmployee):\n",
        "  def work(self, hours):\n",
        "    print(f'{self.name} always screams for at least {hours} hours everyday')\n",
        "\n",
        "class Secretary(SalaryEmployee):\n",
        "  def work(self, hours):\n",
        "    print(f'{self.name} spends time chilling at others desk for {hours} hours everyday')\n",
        "\n",
        "class SalesPerson(CommissionEmployee):\n",
        "  def work(self, hours):\n",
        "    print(f'{self.name} spends {hours} hours on phone everyday')\n",
        "\n",
        "class FactoryWorker(HourlyEmployee):\n",
        "  def work(self, hours):\n",
        "    print(f'{self.name} works hard breaking rocks for {hours} hours everyday')\n"
      ],
      "execution_count": 9,
      "outputs": []
    },
    {
      "cell_type": "code",
      "metadata": {
        "id": "RUYgKa6kfmCQ"
      },
      "source": [
        "#self tried not working\n",
        "salary_employee = SalaryEmployee(1, \"John\", 1500)\n",
        "m= Manager(1, \"John\", 1500)\n",
        "s= Secretary(2, \"Johnny\", 1500)"
      ],
      "execution_count": 10,
      "outputs": []
    },
    {
      "cell_type": "code",
      "metadata": {
        "colab": {
          "base_uri": "https://localhost:8080/"
        },
        "id": "ce02hYu5lyTK",
        "outputId": "c4070f57-d0b0-4ec8-de22-6ff6f03b756f"
      },
      "source": [
        "m.work(5)\n",
        "s.work(6)"
      ],
      "execution_count": 11,
      "outputs": [
        {
          "output_type": "stream",
          "text": [
            "John always screams for at least 5 hours everyday\n",
            "Johnny spends time chilling at others desk for 6 hours everyday\n"
          ],
          "name": "stdout"
        }
      ]
    },
    {
      "cell_type": "code",
      "metadata": {
        "id": "h_Yws8W2fybl"
      },
      "source": [
        "class ProductivitySystem:\n",
        "  def track(self, employees, hours):\n",
        "    print(\"Tracking Employees Productivity:\")\n",
        "    for employee in employees:\n",
        "      employee.work(hours)\n",
        "    print('')"
      ],
      "execution_count": 12,
      "outputs": []
    },
    {
      "cell_type": "code",
      "metadata": {
        "colab": {
          "base_uri": "https://localhost:8080/"
        },
        "id": "b0Qew0Krhaa0",
        "outputId": "beeb57e2-8c7f-4ec6-921d-9807a2eb147b"
      },
      "source": [
        "manager = Manager(1, \"Puja\", 3000)\n",
        "secretary = Secretary(2, \"Vijay\", 1500)\n",
        "sales_guy = SalesPerson(3, \"Roy\", 1000, 250)\n",
        "factory_worker = FactoryWorker(4,\"Teams\",40,15)\n",
        "employees = [\n",
        "             manager,\n",
        "             secretary,\n",
        "             sales_guy,\n",
        "             factory_worker\n",
        "]\n",
        "productivity_system = ProductivitySystem()\n",
        "productivity_system.track(employees,40)"
      ],
      "execution_count": 21,
      "outputs": [
        {
          "output_type": "stream",
          "text": [
            "Tracking Employees Productivity:\n",
            "Puja always screams for at least 40 hours everyday\n",
            "Vijay spends time chilling at others desk for 40 hours everyday\n",
            "Roy spends 40 hours on phone everyday\n",
            "Teams works hard breaking rocks for 40 hours everyday\n",
            "\n"
          ],
          "name": "stdout"
        }
      ]
    },
    {
      "cell_type": "code",
      "metadata": {
        "colab": {
          "base_uri": "https://localhost:8080/"
        },
        "id": "tIX1pqHJiDgj",
        "outputId": "1cd551f8-92f1-40d4-bdce-2f6fe36ee07d"
      },
      "source": [
        "payroll_system = PayrollSystem()\n",
        "payroll_system.calculate_payrolls(employees)"
      ],
      "execution_count": 22,
      "outputs": [
        {
          "output_type": "stream",
          "text": [
            "Calculating Payroll\n",
            "Payroll for:1 - Puja\n",
            "- Check amount:3000\n",
            "\n",
            "Payroll for:2 - Vijay\n",
            "- Check amount:1500\n",
            "\n",
            "Payroll for:3 - Roy\n",
            "- Check amount:1250\n",
            "\n",
            "Payroll for:4 - Teams\n",
            "- Check amount:600\n",
            "\n"
          ],
          "name": "stdout"
        }
      ]
    },
    {
      "cell_type": "code",
      "metadata": {
        "id": "UM4ruQI5j06A"
      },
      "source": [
        "class TemporarySecretary(HourlyEmployee, Secretary):\n",
        "  pass"
      ],
      "execution_count": 15,
      "outputs": []
    },
    {
      "cell_type": "code",
      "metadata": {
        "colab": {
          "base_uri": "https://localhost:8080/",
          "height": 322
        },
        "id": "1WDji1A1OdBw",
        "outputId": "dcbaeb70-9bd1-4f4e-e574-e8585afd8887"
      },
      "source": [
        "manager = Manager(1, \"Mary\", 3000)\n",
        "secretary = Secretary(2, \"Vijay\", 1500)\n",
        "sales_guy = SalesPerson(3, \"Roy\", 1000, 250)\n",
        "factory_worker = FactoryWorker(4,\"Teams\",40,15)\n",
        "temporary_secretary = TemporarySecretary(5, \"Tempo\", 40, 9)"
      ],
      "execution_count": 16,
      "outputs": [
        {
          "output_type": "error",
          "ename": "TypeError",
          "evalue": "ignored",
          "traceback": [
            "\u001b[0;31m---------------------------------------------------------------------------\u001b[0m",
            "\u001b[0;31mTypeError\u001b[0m                                 Traceback (most recent call last)",
            "\u001b[0;32m<ipython-input-16-e7ad5bcdbb06>\u001b[0m in \u001b[0;36m<module>\u001b[0;34m()\u001b[0m\n\u001b[1;32m      3\u001b[0m \u001b[0msales_guy\u001b[0m \u001b[0;34m=\u001b[0m \u001b[0mSalesPerson\u001b[0m\u001b[0;34m(\u001b[0m\u001b[0;36m3\u001b[0m\u001b[0;34m,\u001b[0m \u001b[0;34m\"Roy\"\u001b[0m\u001b[0;34m,\u001b[0m \u001b[0;36m1000\u001b[0m\u001b[0;34m,\u001b[0m \u001b[0;36m250\u001b[0m\u001b[0;34m)\u001b[0m\u001b[0;34m\u001b[0m\u001b[0;34m\u001b[0m\u001b[0m\n\u001b[1;32m      4\u001b[0m \u001b[0mfactory_worker\u001b[0m \u001b[0;34m=\u001b[0m \u001b[0mFactoryWorker\u001b[0m\u001b[0;34m(\u001b[0m\u001b[0;36m4\u001b[0m\u001b[0;34m,\u001b[0m\u001b[0;34m\"Teams\"\u001b[0m\u001b[0;34m,\u001b[0m\u001b[0;36m40\u001b[0m\u001b[0;34m,\u001b[0m\u001b[0;36m15\u001b[0m\u001b[0;34m)\u001b[0m\u001b[0;34m\u001b[0m\u001b[0;34m\u001b[0m\u001b[0m\n\u001b[0;32m----> 5\u001b[0;31m \u001b[0mtemporary_secretary\u001b[0m \u001b[0;34m=\u001b[0m \u001b[0mTemporarySecretary\u001b[0m\u001b[0;34m(\u001b[0m\u001b[0;36m5\u001b[0m\u001b[0;34m,\u001b[0m \u001b[0;34m\"Tempo\"\u001b[0m\u001b[0;34m,\u001b[0m \u001b[0;36m40\u001b[0m\u001b[0;34m,\u001b[0m \u001b[0;36m9\u001b[0m\u001b[0;34m)\u001b[0m\u001b[0;34m\u001b[0m\u001b[0;34m\u001b[0m\u001b[0m\n\u001b[0m",
            "\u001b[0;32m<ipython-input-4-24bf0f796789>\u001b[0m in \u001b[0;36m__init__\u001b[0;34m(self, id, name, hours_worked, hour_rate)\u001b[0m\n\u001b[1;32m      1\u001b[0m \u001b[0;32mclass\u001b[0m \u001b[0mHourlyEmployee\u001b[0m\u001b[0;34m(\u001b[0m\u001b[0mEmployee\u001b[0m\u001b[0;34m)\u001b[0m\u001b[0;34m:\u001b[0m\u001b[0;34m\u001b[0m\u001b[0;34m\u001b[0m\u001b[0m\n\u001b[1;32m      2\u001b[0m   \u001b[0;32mdef\u001b[0m \u001b[0m__init__\u001b[0m\u001b[0;34m(\u001b[0m\u001b[0mself\u001b[0m\u001b[0;34m,\u001b[0m\u001b[0mid\u001b[0m\u001b[0;34m,\u001b[0m\u001b[0mname\u001b[0m\u001b[0;34m,\u001b[0m\u001b[0mhours_worked\u001b[0m\u001b[0;34m,\u001b[0m\u001b[0mhour_rate\u001b[0m\u001b[0;34m)\u001b[0m\u001b[0;34m:\u001b[0m\u001b[0;34m\u001b[0m\u001b[0;34m\u001b[0m\u001b[0m\n\u001b[0;32m----> 3\u001b[0;31m     \u001b[0msuper\u001b[0m\u001b[0;34m(\u001b[0m\u001b[0;34m)\u001b[0m\u001b[0;34m.\u001b[0m\u001b[0m__init__\u001b[0m\u001b[0;34m(\u001b[0m\u001b[0mid\u001b[0m\u001b[0;34m,\u001b[0m\u001b[0mname\u001b[0m\u001b[0;34m)\u001b[0m\u001b[0;34m\u001b[0m\u001b[0;34m\u001b[0m\u001b[0m\n\u001b[0m\u001b[1;32m      4\u001b[0m     \u001b[0mself\u001b[0m\u001b[0;34m.\u001b[0m\u001b[0mhours_worked\u001b[0m \u001b[0;34m=\u001b[0m \u001b[0mhours_worked\u001b[0m\u001b[0;34m\u001b[0m\u001b[0;34m\u001b[0m\u001b[0m\n\u001b[1;32m      5\u001b[0m     \u001b[0mself\u001b[0m\u001b[0;34m.\u001b[0m\u001b[0mhour_rate\u001b[0m \u001b[0;34m=\u001b[0m \u001b[0mhour_rate\u001b[0m\u001b[0;34m\u001b[0m\u001b[0;34m\u001b[0m\u001b[0m\n",
            "\u001b[0;31mTypeError\u001b[0m: __init__() missing 1 required positional argument: 'weekly_salary'"
          ]
        }
      ]
    },
    {
      "cell_type": "code",
      "metadata": {
        "id": "o88BhPeTP2Wz"
      },
      "source": [
        "class TemporarySecretary(Secretary,HourlyEmployee):\n",
        "  def __init__(self,id,name,hours_worked,hour_rate):\n",
        "    HourlyEmployee.__init__(self,id,name,hours_worked,hour_rate)\n",
        "\n",
        "\n",
        "manager = Manager(1, \"Mary\", 3000)\n",
        "secretary = Secretary(2,\"John\",1500)\n",
        "sales_guy = SalesPerson(3,\"Ray\",1000,250)\n",
        "factory_worker = FactoryWorker(4,\"Token\",40,15)\n",
        "temporary_secretary = TemporarySecretary(5,\"Tempo\",40,9)"
      ],
      "execution_count": 17,
      "outputs": []
    },
    {
      "cell_type": "code",
      "metadata": {
        "colab": {
          "base_uri": "https://localhost:8080/"
        },
        "id": "ag_i2wuORf81",
        "outputId": "ddad4a51-6664-480c-c1ee-b2ab4908818b"
      },
      "source": [
        "company_employees=[\n",
        "                   manager,\n",
        "                   secretary,\n",
        "                   sales_guy,\n",
        "                   factory_worker,\n",
        "                   temporary_secretary\n",
        "]\n",
        "\n",
        "productivity_system = ProductivitySystem()\n",
        "productivity_system.track(company_employees, 40)"
      ],
      "execution_count": 23,
      "outputs": [
        {
          "output_type": "stream",
          "text": [
            "Tracking Employees Productivity:\n",
            "Puja always screams for at least 40 hours everyday\n",
            "Vijay spends time chilling at others desk for 40 hours everyday\n",
            "Roy spends 40 hours on phone everyday\n",
            "Teams works hard breaking rocks for 40 hours everyday\n",
            "Tempo spends time chilling at others desk for 40 hours everyday\n",
            "\n"
          ],
          "name": "stdout"
        }
      ]
    },
    {
      "cell_type": "code",
      "metadata": {
        "colab": {
          "base_uri": "https://localhost:8080/",
          "height": 537
        },
        "id": "f6sao0uHRhfE",
        "outputId": "ad3eb880-e2e3-46ab-f0ed-6e293be77c84"
      },
      "source": [
        "payroll_system = PayrollSystem()\n",
        "payroll_system.calculate_payrolls(company_employees)"
      ],
      "execution_count": 24,
      "outputs": [
        {
          "output_type": "stream",
          "text": [
            "Calculating Payroll\n",
            "Payroll for:1 - Puja\n",
            "- Check amount:3000\n",
            "\n",
            "Payroll for:2 - Vijay\n",
            "- Check amount:1500\n",
            "\n",
            "Payroll for:3 - Roy\n",
            "- Check amount:1250\n",
            "\n",
            "Payroll for:4 - Teams\n",
            "- Check amount:600\n",
            "\n",
            "Payroll for:5 - Tempo\n"
          ],
          "name": "stdout"
        },
        {
          "output_type": "error",
          "ename": "AttributeError",
          "evalue": "ignored",
          "traceback": [
            "\u001b[0;31m---------------------------------------------------------------------------\u001b[0m",
            "\u001b[0;31mAttributeError\u001b[0m                            Traceback (most recent call last)",
            "\u001b[0;32m<ipython-input-24-c2ac99f4eb0f>\u001b[0m in \u001b[0;36m<module>\u001b[0;34m()\u001b[0m\n\u001b[1;32m      1\u001b[0m \u001b[0mpayroll_system\u001b[0m \u001b[0;34m=\u001b[0m \u001b[0mPayrollSystem\u001b[0m\u001b[0;34m(\u001b[0m\u001b[0;34m)\u001b[0m\u001b[0;34m\u001b[0m\u001b[0;34m\u001b[0m\u001b[0m\n\u001b[0;32m----> 2\u001b[0;31m \u001b[0mpayroll_system\u001b[0m\u001b[0;34m.\u001b[0m\u001b[0mcalculate_payrolls\u001b[0m\u001b[0;34m(\u001b[0m\u001b[0mcompany_employees\u001b[0m\u001b[0;34m)\u001b[0m\u001b[0;34m\u001b[0m\u001b[0;34m\u001b[0m\u001b[0m\n\u001b[0m",
            "\u001b[0;32m<ipython-input-2-85ccd722f37f>\u001b[0m in \u001b[0;36mcalculate_payrolls\u001b[0;34m(self, employees)\u001b[0m\n\u001b[1;32m      4\u001b[0m     \u001b[0;32mfor\u001b[0m \u001b[0memployee\u001b[0m \u001b[0;32min\u001b[0m \u001b[0memployees\u001b[0m\u001b[0;34m:\u001b[0m\u001b[0;34m\u001b[0m\u001b[0;34m\u001b[0m\u001b[0m\n\u001b[1;32m      5\u001b[0m       \u001b[0mprint\u001b[0m\u001b[0;34m(\u001b[0m\u001b[0;34mf'Payroll for:{employee.id} - {employee.name}'\u001b[0m\u001b[0;34m)\u001b[0m\u001b[0;34m\u001b[0m\u001b[0;34m\u001b[0m\u001b[0m\n\u001b[0;32m----> 6\u001b[0;31m       \u001b[0mprint\u001b[0m\u001b[0;34m(\u001b[0m\u001b[0;34mf'- Check amount:{employee.calculate_payroll()}'\u001b[0m\u001b[0;34m)\u001b[0m\u001b[0;34m\u001b[0m\u001b[0;34m\u001b[0m\u001b[0m\n\u001b[0m\u001b[1;32m      7\u001b[0m       \u001b[0mprint\u001b[0m\u001b[0;34m(\u001b[0m\u001b[0;34m\"\"\u001b[0m\u001b[0;34m)\u001b[0m\u001b[0;34m\u001b[0m\u001b[0;34m\u001b[0m\u001b[0m\n",
            "\u001b[0;32m<ipython-input-3-b8fc2bd8caa8>\u001b[0m in \u001b[0;36mcalculate_payroll\u001b[0;34m(self)\u001b[0m\n\u001b[1;32m      6\u001b[0m \u001b[0;34m\u001b[0m\u001b[0m\n\u001b[1;32m      7\u001b[0m   \u001b[0;32mdef\u001b[0m \u001b[0mcalculate_payroll\u001b[0m\u001b[0;34m(\u001b[0m\u001b[0mself\u001b[0m\u001b[0;34m)\u001b[0m\u001b[0;34m:\u001b[0m\u001b[0;34m\u001b[0m\u001b[0;34m\u001b[0m\u001b[0m\n\u001b[0;32m----> 8\u001b[0;31m     \u001b[0;32mreturn\u001b[0m \u001b[0mself\u001b[0m\u001b[0;34m.\u001b[0m\u001b[0mweekly_salary\u001b[0m\u001b[0;34m\u001b[0m\u001b[0;34m\u001b[0m\u001b[0m\n\u001b[0m",
            "\u001b[0;31mAttributeError\u001b[0m: 'TemporarySecretary' object has no attribute 'weekly_salary'"
          ]
        }
      ]
    },
    {
      "cell_type": "markdown",
      "metadata": {
        "id": "13vyj8bvZWJk"
      },
      "source": [
        "Reason: TempSec use Multiple Classes to inherit and then also inherit from the Base class:Employee, This causes two paths to reach Employee so a wrong one might be called. We will will separate modules for Productivity and Separate for Payroll Management"
      ]
    },
    {
      "cell_type": "code",
      "metadata": {
        "id": "c13rOwhfRkGD"
      },
      "source": [
        ""
      ],
      "execution_count": null,
      "outputs": []
    }
  ]
}