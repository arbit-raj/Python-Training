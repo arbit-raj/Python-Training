{
  "nbformat": 4,
  "nbformat_minor": 0,
  "metadata": {
    "colab": {
      "name": "FeaturesPython.ipynb",
      "provenance": [],
      "collapsed_sections": [],
      "authorship_tag": "ABX9TyPoHa6LoQ1IPFGMTuV0IOpa",
      "include_colab_link": true
    },
    "kernelspec": {
      "name": "python3",
      "display_name": "Python 3"
    },
    "language_info": {
      "name": "python"
    }
  },
  "cells": [
    {
      "cell_type": "markdown",
      "metadata": {
        "id": "view-in-github",
        "colab_type": "text"
      },
      "source": [
        "<a href=\"https://colab.research.google.com/github/arbit-raj/Python-Training/blob/main/FeaturesPython.ipynb\" target=\"_parent\"><img src=\"https://colab.research.google.com/assets/colab-badge.svg\" alt=\"Open In Colab\"/></a>"
      ]
    },
    {
      "cell_type": "markdown",
      "metadata": {
        "id": "f0IZCEyHvbFI"
      },
      "source": [
        "SUB CLASSES:"
      ]
    },
    {
      "cell_type": "code",
      "metadata": {
        "id": "Nat0HsGqtMMF"
      },
      "source": [
        "class Trainer(object):\n",
        "  def __init__(self, name, behaviour, knowledge, content):\n",
        "    self.name = name\n",
        "    self.behaviour = behaviour\n",
        "    self.knowledge = knowledge\n",
        "    self.content = content\n",
        "\n",
        "  def get_behaviour(self):\n",
        "    return self.behaviour\n",
        "\n",
        "  def get_content(self):\n",
        "    return self.content\n",
        "\n",
        "    "
      ],
      "execution_count": 1,
      "outputs": []
    },
    {
      "cell_type": "code",
      "metadata": {
        "id": "NsHpWPbSt30w"
      },
      "source": [
        "class GoodTrainer(Trainer):\n",
        "  def __init__(self, name, behaviour, knowledge, content):\n",
        "    super().__init__(name, behaviour, knowledge, content)\n",
        "\n",
        "  def encourage(self):\n",
        "    print(\"Good trainer encourages hands on practice\")\n",
        "\n",
        "  def nurture(self):\n",
        "    print(\"Good trainer encourages hands on practice and nurtures audience\")"
      ],
      "execution_count": 2,
      "outputs": []
    },
    {
      "cell_type": "code",
      "metadata": {
        "id": "ffE5-pKFun5I"
      },
      "source": [
        "result = GoodTrainer(\"Deepanshu\", \"Good\", \"Ample\", \"Python Programming\")"
      ],
      "execution_count": 3,
      "outputs": []
    },
    {
      "cell_type": "code",
      "metadata": {
        "colab": {
          "base_uri": "https://localhost:8080/",
          "height": 35
        },
        "id": "L2K_wROSu2M-",
        "outputId": "65819d44-c41a-49b7-bfc4-b857eb464869"
      },
      "source": [
        "result.content"
      ],
      "execution_count": 5,
      "outputs": [
        {
          "output_type": "execute_result",
          "data": {
            "application/vnd.google.colaboratory.intrinsic+json": {
              "type": "string"
            },
            "text/plain": [
              "'Python Programming'"
            ]
          },
          "metadata": {
            "tags": []
          },
          "execution_count": 5
        }
      ]
    },
    {
      "cell_type": "code",
      "metadata": {
        "colab": {
          "base_uri": "https://localhost:8080/",
          "height": 35
        },
        "id": "2LDcUBYOu9Hs",
        "outputId": "bfb0ee96-1d52-4324-9b2f-2103d2b07d6c"
      },
      "source": [
        "result.get_behaviour()"
      ],
      "execution_count": 7,
      "outputs": [
        {
          "output_type": "execute_result",
          "data": {
            "application/vnd.google.colaboratory.intrinsic+json": {
              "type": "string"
            },
            "text/plain": [
              "'Good'"
            ]
          },
          "metadata": {
            "tags": []
          },
          "execution_count": 7
        }
      ]
    },
    {
      "cell_type": "code",
      "metadata": {
        "colab": {
          "base_uri": "https://localhost:8080/",
          "height": 35
        },
        "id": "aRSYv5utvVUc",
        "outputId": "e6121e6c-501b-4a1b-cca7-55e303c4563f"
      },
      "source": [
        "result.name"
      ],
      "execution_count": 8,
      "outputs": [
        {
          "output_type": "execute_result",
          "data": {
            "application/vnd.google.colaboratory.intrinsic+json": {
              "type": "string"
            },
            "text/plain": [
              "'Deepanshu'"
            ]
          },
          "metadata": {
            "tags": []
          },
          "execution_count": 8
        }
      ]
    },
    {
      "cell_type": "code",
      "metadata": {
        "colab": {
          "base_uri": "https://localhost:8080/"
        },
        "id": "zKXCdRTlvCFp",
        "outputId": "6aa593b8-e5de-42e9-da70-ab6886fd4c91"
      },
      "source": [
        "result.encourage()"
      ],
      "execution_count": 10,
      "outputs": [
        {
          "output_type": "stream",
          "text": [
            "Good trainer encourages hands on practice\n"
          ],
          "name": "stdout"
        }
      ]
    },
    {
      "cell_type": "code",
      "metadata": {
        "colab": {
          "base_uri": "https://localhost:8080/"
        },
        "id": "84JA3ncrxSiZ",
        "outputId": "4c1577ad-9857-49dd-a1fe-ced42a7de2be"
      },
      "source": [
        "result.nurture()"
      ],
      "execution_count": 14,
      "outputs": [
        {
          "output_type": "stream",
          "text": [
            "Good trainer encourages hands on practice and nurtures audience\n"
          ],
          "name": "stdout"
        }
      ]
    },
    {
      "cell_type": "markdown",
      "metadata": {
        "id": "XiVRBL66y0TM"
      },
      "source": [
        "Recreating Rock Paper Scissors game"
      ]
    },
    {
      "cell_type": "code",
      "metadata": {
        "colab": {
          "base_uri": "https://localhost:8080/"
        },
        "id": "B-Kf7_09xYFe",
        "outputId": "dcdd16e9-ab6c-4f7a-c2a8-837ce6312e2f"
      },
      "source": [
        "from __future__ import generators\n",
        "import random\n",
        "\n",
        "class Outcome:\n",
        "    def __init__(self, value, name):\n",
        "        self.value = value\n",
        "        self.name = name\n",
        "    def __str__(self): return self.name\n",
        "    def __eq__(self, other):\n",
        "        return self.value == other.value\n",
        "\n",
        "Outcome.WIN = Outcome(0, \"win\")\n",
        "Outcome.LOSE = Outcome(1, \"lose\")\n",
        "Outcome.DRAW = Outcome(2, \"draw\")\n",
        "\n",
        "class Item(object):\n",
        "    def __str__(self):\n",
        "        return self.__class__.__name__\n",
        "\n",
        "class Paper(Item):\n",
        "    def compete(self, item):\n",
        "        return item.evalPaper(self)\n",
        "    def evalPaper(self, item):\n",
        "        return Outcome.DRAW\n",
        "    def evalScissors(self, item):\n",
        "        return Outcome.WIN\n",
        "    def evalRock(self, item):\n",
        "        return Outcome.LOSE\n",
        "\n",
        "class Scissors(Item):\n",
        "    def compete(self, item):\n",
        "        return item.evalScissors(self)\n",
        "    def evalPaper(self, item):\n",
        "        return Outcome.LOSE\n",
        "    def evalScissors(self, item):\n",
        "        return Outcome.DRAW\n",
        "    def evalRock(self, item):\n",
        "        return Outcome.WIN\n",
        "\n",
        "class Rock(Item):\n",
        "    def compete(self, item):\n",
        "        return item.evalRock(self)\n",
        "    def evalPaper(self, item):\n",
        "        return Outcome.WIN\n",
        "    def evalScissors(self, item):\n",
        "        return Outcome.LOSE\n",
        "    def evalRock(self, item):\n",
        "        return Outcome.DRAW\n",
        "\n",
        "def match(item1, item2):\n",
        "    print(\"%s <--> %s : %s\" % (\n",
        "      item1, item2, item1.compete(item2)))\n",
        "\n",
        "def itemPairGen(n):\n",
        "    Items = Item.__subclasses__()\n",
        "    for i in range(n):\n",
        "        yield (random.choice(Items)(),\n",
        "               random.choice(Items)())\n",
        "\n",
        "for item1, item2 in itemPairGen(20):\n",
        "    match(item1, item2)\n"
      ],
      "execution_count": 17,
      "outputs": [
        {
          "output_type": "stream",
          "text": [
            "Paper <--> Rock : win\n",
            "Rock <--> Scissors : win\n",
            "Paper <--> Scissors : lose\n",
            "Paper <--> Scissors : lose\n",
            "Scissors <--> Rock : lose\n",
            "Scissors <--> Rock : lose\n",
            "Rock <--> Rock : draw\n",
            "Paper <--> Scissors : lose\n",
            "Paper <--> Scissors : lose\n",
            "Rock <--> Scissors : win\n",
            "Rock <--> Paper : lose\n",
            "Scissors <--> Rock : lose\n",
            "Paper <--> Rock : win\n",
            "Scissors <--> Rock : lose\n",
            "Rock <--> Rock : draw\n",
            "Rock <--> Rock : draw\n",
            "Scissors <--> Paper : win\n",
            "Scissors <--> Rock : lose\n",
            "Scissors <--> Paper : win\n",
            "Scissors <--> Rock : lose\n"
          ],
          "name": "stdout"
        }
      ]
    },
    {
      "cell_type": "code",
      "metadata": {
        "colab": {
          "base_uri": "https://localhost:8080/"
        },
        "id": "WlcPAn0ezmTj",
        "outputId": "2a4b584f-11d9-4978-c732-1f3a0945a9c2"
      },
      "source": [
        "from __future__ import generators\n",
        "import random\n",
        "\n",
        "class Outcome:\n",
        "    def __init__(self, value, name):\n",
        "        self.value = value\n",
        "        self.name = name\n",
        "    def __str__(self): return self.name\n",
        "    def __eq__(self, other):\n",
        "        return self.value == other.value\n",
        "\n",
        "Outcome.WIN = Outcome(0, \"win\")\n",
        "Outcome.LOSE = Outcome(1, \"lose\")\n",
        "Outcome.DRAW = Outcome(2, \"draw\")\n",
        "\n",
        "class Item(object):\n",
        "    def compete(self, item):\n",
        "        return outcome[self.__class__ ,item.__class__]\n",
        "\n",
        "    def __str__(self):\n",
        "      return self.__class__.__name__\n",
        "\n",
        "class Paper(Item): pass\n",
        "class Scissor(Item): pass\n",
        "class Rock(Item): pass\n",
        "\n",
        "outcome = {\n",
        "    (Paper,Rock):Outcome.WIN,\n",
        "    (Paper,Scissor):Outcome.LOSE,\n",
        "    (Paper,Paper):Outcome.DRAW,\n",
        "    (Scissor,Rock):Outcome.LOSE,\n",
        "    (Scissor,Scissor):Outcome.DRAW,\n",
        "    (Scissor,Paper):Outcome.WIN,\n",
        "    (Rock,Scissor):Outcome.WIN,\n",
        "    (Rock,Paper):Outcome.LOSE,\n",
        "    (Rock,Rock):Outcome.DRAW,\n",
        "}\n",
        "\n",
        "def match(item1, item2):\n",
        "    print(\"%s <--> %s : %s\" % (\n",
        "      item1, item2, item1.compete(item2)))\n",
        "    \n",
        "\n",
        "def itemPairGen(n):\n",
        "    Items = Item.__subclasses__()\n",
        "    for i in range(n):\n",
        "        yield (random.choice(Items)(),\n",
        "               random.choice(Items)())\n",
        "\n",
        "for item1, item2 in itemPairGen(20):\n",
        "    match(item1, item2)"
      ],
      "execution_count": 18,
      "outputs": [
        {
          "output_type": "stream",
          "text": [
            "Paper <--> Rock : win\n",
            "Rock <--> Rock : draw\n",
            "Scissor <--> Scissor : draw\n",
            "Rock <--> Paper : lose\n",
            "Rock <--> Paper : lose\n",
            "Paper <--> Scissor : lose\n",
            "Rock <--> Paper : lose\n",
            "Rock <--> Rock : draw\n",
            "Scissor <--> Rock : lose\n",
            "Paper <--> Scissor : lose\n",
            "Rock <--> Rock : draw\n",
            "Rock <--> Paper : lose\n",
            "Rock <--> Scissor : win\n",
            "Scissor <--> Rock : lose\n",
            "Paper <--> Paper : draw\n",
            "Scissor <--> Scissor : draw\n",
            "Rock <--> Paper : lose\n",
            "Rock <--> Scissor : win\n",
            "Rock <--> Paper : lose\n",
            "Scissor <--> Scissor : draw\n"
          ],
          "name": "stdout"
        }
      ]
    },
    {
      "cell_type": "markdown",
      "metadata": {
        "id": "gFfSsOMVDSOT"
      },
      "source": [
        "Visitor Pattern"
      ]
    },
    {
      "cell_type": "code",
      "metadata": {
        "colab": {
          "base_uri": "https://localhost:8080/"
        },
        "id": "qqf6nIyU8SLp",
        "outputId": "a38d8824-15a6-47e1-a7fd-9647b3b4b481"
      },
      "source": [
        "from __future__ import generators\n",
        "import random\n",
        "\n",
        "class Flower(object):\n",
        "  def accept(self, visitor):\n",
        "    visitor.visit(self)\n",
        "  def pollinate(self, pollinator):\n",
        "    print(self,\"Pollinated by: \", pollinator)\n",
        "  def eat(self, eater):\n",
        "    print(self,\"Eaten by: \", eater)\n",
        "  def __str__(self):\n",
        "    return self.__class__.__name__\n",
        "\n",
        "\n",
        "class Gladiolus(Flower):\n",
        "  pass\n",
        "class Runuculus(Flower):\n",
        "  pass\n",
        "class Sunflower(Flower):\n",
        "  pass\n",
        "\n",
        "class Visitor:\n",
        "  def __str__(self):\n",
        "    return self.__class__.__name__\n",
        "\n",
        "class Bug(Visitor): pass \n",
        "class Pollinator(Bug): pass \n",
        "class Predator(Bug): pass \n",
        "\n",
        "class Bee(Pollinator):\n",
        "  def visit(self, flower):\n",
        "    flower.pollinate(self)\n",
        "class Fly(Pollinator):\n",
        "  def visit(self, flower):\n",
        "    flower.pollinate(self)\n",
        "class Worm(Predator):\n",
        "  def visit(self, flower):\n",
        "    flower.eat(self)\n",
        "\n",
        "def flowerGen(n):\n",
        "  flwrs = Flower.__subclasses__()\n",
        "  for i in range(n):\n",
        "    yield random.choice(flwrs)()\n",
        "\n",
        "bee = Bee()\n",
        "fly = Fly()\n",
        "worm = Worm()\n",
        "for flower in flowerGen(10):\n",
        "  flower.accept(bee)\n",
        "  flower.accept(fly)\n",
        "  flower.accept(worm)"
      ],
      "execution_count": 19,
      "outputs": [
        {
          "output_type": "stream",
          "text": [
            "Sunflower Pollinated by:  Bee\n",
            "Sunflower Pollinated by:  Fly\n",
            "Sunflower Eaten by:  Worm\n",
            "Gladiolus Pollinated by:  Bee\n",
            "Gladiolus Pollinated by:  Fly\n",
            "Gladiolus Eaten by:  Worm\n",
            "Runuculus Pollinated by:  Bee\n",
            "Runuculus Pollinated by:  Fly\n",
            "Runuculus Eaten by:  Worm\n",
            "Gladiolus Pollinated by:  Bee\n",
            "Gladiolus Pollinated by:  Fly\n",
            "Gladiolus Eaten by:  Worm\n",
            "Gladiolus Pollinated by:  Bee\n",
            "Gladiolus Pollinated by:  Fly\n",
            "Gladiolus Eaten by:  Worm\n",
            "Runuculus Pollinated by:  Bee\n",
            "Runuculus Pollinated by:  Fly\n",
            "Runuculus Eaten by:  Worm\n",
            "Runuculus Pollinated by:  Bee\n",
            "Runuculus Pollinated by:  Fly\n",
            "Runuculus Eaten by:  Worm\n",
            "Runuculus Pollinated by:  Bee\n",
            "Runuculus Pollinated by:  Fly\n",
            "Runuculus Eaten by:  Worm\n",
            "Gladiolus Pollinated by:  Bee\n",
            "Gladiolus Pollinated by:  Fly\n",
            "Gladiolus Eaten by:  Worm\n",
            "Sunflower Pollinated by:  Bee\n",
            "Sunflower Pollinated by:  Fly\n",
            "Sunflower Eaten by:  Worm\n"
          ],
          "name": "stdout"
        }
      ]
    },
    {
      "cell_type": "code",
      "metadata": {
        "id": "scSrhjGBDUgK"
      },
      "source": [
        ""
      ],
      "execution_count": null,
      "outputs": []
    }
  ]
}