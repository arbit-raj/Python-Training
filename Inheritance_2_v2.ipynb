{
  "nbformat": 4,
  "nbformat_minor": 0,
  "metadata": {
    "colab": {
      "name": "Inheritance 2 v2.ipynb",
      "provenance": [],
      "authorship_tag": "ABX9TyPB2GI1IKuqRkMutX6sO6Uu",
      "include_colab_link": true
    },
    "kernelspec": {
      "name": "python3",
      "display_name": "Python 3"
    },
    "language_info": {
      "name": "python"
    }
  },
  "cells": [
    {
      "cell_type": "markdown",
      "metadata": {
        "id": "view-in-github",
        "colab_type": "text"
      },
      "source": [
        "<a href=\"https://colab.research.google.com/github/arbit-raj/Python-Training/blob/main/Inheritance_2_v2.ipynb\" target=\"_parent\"><img src=\"https://colab.research.google.com/assets/colab-badge.svg\" alt=\"Open In Colab\"/></a>"
      ]
    },
    {
      "cell_type": "code",
      "metadata": {
        "id": "e4FgE6n1ZfnJ"
      },
      "source": [
        "class ProductivitySystem:\n",
        "  def track(self,employees,hours):\n",
        "    print(\"Tracking Employees Productivity:\")\n",
        "    for employee in employees:\n",
        "      result = employee.work(hours)\n",
        "      print(f'{employee.name} : {result}')\n",
        "    print('')\n",
        "\n",
        "\n",
        "class ManagerRole:\n",
        "  def work(self,hours):\n",
        "    print(f'He always screams for atleast {hours} hours everyday')\n",
        "\n",
        "class SecretaryRole:\n",
        "  def work(self,hours):\n",
        "    print(f'He always spends time chilling at others desk for {hours} hours everyday')\n",
        "\n",
        "class SalesRole:\n",
        "  def work(self,hours):\n",
        "    print(f'He always spends {hours} hours on phone everyday')\n",
        "\n",
        "class FactoryRole:\n",
        "  def work(self,hours):\n",
        "    print(f'He always works hard, breaking rocks for {hours} hours everyday')"
      ],
      "execution_count": 1,
      "outputs": []
    },
    {
      "cell_type": "code",
      "metadata": {
        "id": "I5vm35ofZtB3"
      },
      "source": [
        "class PayrollSystem:\n",
        "  def calculate_payroll(self,employees):\n",
        "    print(\"Calculating Payroll\")\n",
        "    for employee in employees:\n",
        "      print(f'Payroll for:{employee.id} - {employee.name}')\n",
        "      print(f'- Check amount:{employee.calculate_payroll()}')\n",
        "      print(\"\")\n",
        "\n",
        "class SalaryPolicy:\n",
        "  def __init__(self, weekly_salary):\n",
        "    self.weekly_salary = weekly_salary\n",
        "\n",
        "  def calculate_payroll(self):\n",
        "    return self.weekly_salary\n",
        "\n",
        "\n",
        "class HourlyPolicy:\n",
        "  def __init__(self, hours_worked, hour_rate):\n",
        "    self.hours_worked = hours_worked\n",
        "    self.hour_rate = hour_rate\n",
        "\n",
        "  def calculate_payroll(self):\n",
        "    return self.hours_worked*hourly_employee\n",
        "\n",
        "\n",
        "class CommissionPolicy(SalaryPolicy):\n",
        "  def __init__(self, weekly_salary,commission):\n",
        "    super().__init__(weekly_salary)\n",
        "    self.commission = commission\n",
        "\n",
        "  def calculate_payroll(self):\n",
        "    fixed = super().calculate_payroll()\n",
        "    return fixed+ self.commission"
      ],
      "execution_count": 2,
      "outputs": []
    },
    {
      "cell_type": "code",
      "metadata": {
        "id": "vxxQ_YJjZ19J"
      },
      "source": [
        "class Employee:\n",
        "  def __init__(self, id, name):\n",
        "    self.id=id\n",
        "    self.name=name\n",
        "\n",
        "class Manager(Employee, ManagerRole,SalaryPolicy):\n",
        "  def __init__(self,id,name,weekly_salary):\n",
        "    SalaryPolicy.__init__(self,weekly_salary)\n",
        "    super().__init__(id,name)\n",
        "\n",
        "class Secretary(Employee, SecretaryRole,SalaryPolicy):\n",
        "  def __init__(self,id,name,weekly_salary):\n",
        "    SalaryPolicy.__init__(self,weekly_salary)\n",
        "    super().__init__(id,name)\n",
        "\n",
        "class SalesPerson(Employee, SalesRole,CommissionPolicy):\n",
        "  def __init__(self,id,name,weekly_salary,commission):\n",
        "    CommissionPolicy.__init__(self,weekly_salary,commission)\n",
        "    super().__init__(id,name)\n",
        "\n",
        "class FactoryWorker(Employee, FactoryRole,HourlyPolicy):\n",
        "  def __init__(self,id,name,hours_worked, hour_rate):\n",
        "    HourlyPolicy.__init__(self,hours_worked,hour_rate)\n",
        "    super().__init__(id,name)\n",
        "\n",
        "class TemporarySecretary(Employee, SecretaryRole,HourlyPolicy):\n",
        "  def __init__(self,id,name,hours_worked, hour_rate):\n",
        "    HourlyPolicy.__init__(self,hours_worked,hour_rate)\n",
        "    super().__init__(id,name)"
      ],
      "execution_count": 3,
      "outputs": []
    },
    {
      "cell_type": "code",
      "metadata": {
        "id": "0gK4n8taZ4ST"
      },
      "source": [
        "class Address:\n",
        "  def __init__(self, street, street2, city,state,zipcode):\n",
        "    self.street = street\n",
        "    self.street2 = street2\n",
        "    self.city = city\n",
        "    self.zipcode = zipcode\n",
        "    self.state = state\n",
        "\n",
        "  def __str__(self):\n",
        "    lines = [self.street]\n",
        "    if self.street2:\n",
        "      lines.append(self.street2)\n",
        "    lines.append(f'{self.city},{self.state},{self.zipcode}')\n",
        "    return '\\n'.join(lines)"
      ],
      "execution_count": 4,
      "outputs": []
    },
    {
      "cell_type": "code",
      "metadata": {
        "colab": {
          "base_uri": "https://localhost:8080/"
        },
        "id": "VGIXwylbk_VH",
        "outputId": "9e2b396b-4a10-49cb-e06d-3bba111142b1"
      },
      "source": [
        "address = Address(\"55th Main\",\"Vijay colony\",\"Bangalore\",\"BL\",\"560001\")\n",
        "print(address)"
      ],
      "execution_count": 5,
      "outputs": [
        {
          "output_type": "stream",
          "text": [
            "55th Main\n",
            "Vijay colony\n",
            "Bangalore,BL,560001\n"
          ],
          "name": "stdout"
        }
      ]
    },
    {
      "cell_type": "code",
      "metadata": {
        "id": "3zvKIkVDlBIo"
      },
      "source": [
        "class Employee:\n",
        "  def __init__(self, id, name):\n",
        "    self.id=id\n",
        "    self.name=name\n",
        "    self.address= None"
      ],
      "execution_count": 6,
      "outputs": []
    },
    {
      "cell_type": "code",
      "metadata": {
        "id": "uDoF4OUMlEtE"
      },
      "source": [
        "class PayrollSystem:\n",
        "  def calculate_payroll(self,employees):\n",
        "    print(\"Calculating Payroll\")\n",
        "    for employee in employees:\n",
        "      print(f'Payroll for:{employee.id} - {employee.name}')\n",
        "      print(f'- Check amount:{employee.calculate_payroll()}')\n",
        "      if employee.address:\n",
        "        print(\"Address:\")\n",
        "        print(employee.address)\n",
        "      print(\"\")"
      ],
      "execution_count": 7,
      "outputs": []
    },
    {
      "cell_type": "code",
      "metadata": {
        "colab": {
          "base_uri": "https://localhost:8080/"
        },
        "id": "HRkqtBsnlJB3",
        "outputId": "8486d509-fddf-4eb6-f7bd-8541e98fe3ad"
      },
      "source": [
        "class ManagerRole:\n",
        "  def work(self,hours):\n",
        "    print(f'He always screams for atleast {hours} hours everyday')\n",
        "\n",
        "class SalaryPolicy:\n",
        "  def __init__(self, weekly_salary):\n",
        "    self.weekly_salary = weekly_salary\n",
        "\n",
        "  def calculate_payroll(self):\n",
        "    return self.weekly_salary\n",
        "\n",
        "class SecretaryRole:\n",
        "  def work(self,hours):\n",
        "    print(f'He always works for atleast {hours} hours everyday')\n",
        "\n",
        "class Secretary(Employee, SecretaryRole,SalaryPolicy):\n",
        "  def __init__(self,id,name,weekly_salary):\n",
        "    SalaryPolicy.__init__(self,weekly_salary)\n",
        "    super().__init__(id,name)\n",
        "\n",
        "class Manager(Employee, ManagerRole,SalaryPolicy):\n",
        "  def __init__(self,id,name,weekly_salary):\n",
        "    SalaryPolicy.__init__(self,weekly_salary)\n",
        "    super().__init__(id,name)\n",
        "\n",
        "\n",
        "\n",
        "manager = Manager(1, \"Mary\", 3000)\n",
        "manager.address = Address(\"5th Main\",\"Prestige Apartment\",\"Bangalore\",\"BL\",\"560031\")\n",
        "secretary = Secretary(2, \"John\", 1500)\n",
        "secretary.address = Address(\"23rd Main\",\"Prestige Apartment\",\"Bangalore\",\"BL\",\"560231\")\n",
        "\n",
        "class SalesRole:\n",
        "  def work(self,hours):\n",
        "    print(f'He always spends {hours} hours on phone everyday')\n",
        "\n",
        "\n",
        "class CommissionPolicy(SalaryPolicy):\n",
        "  def __init__(self, weekly_salary,commission):\n",
        "    super().__init__(weekly_salary)\n",
        "    self.commission = commission\n",
        "\n",
        "  def calculate_payroll(self):\n",
        "    fixed = super().calculate_payroll()\n",
        "    return fixed+ self.commission\n",
        "\n",
        "\n",
        "class SalesPerson(Employee, SalesRole,CommissionPolicy):\n",
        "  def __init__(self,id,name,weekly_salary,commission):\n",
        "    CommissionPolicy.__init__(self,weekly_salary,commission)\n",
        "    super().__init__(id,name)\n",
        "    \n",
        "class FactoryRole:\n",
        "  def work(self,hours):\n",
        "    print(f'He always works hard, breaking rocks for {hours} hours everyday')\n",
        "\n",
        "\n",
        "class HourlyPolicy:\n",
        "  def __init__(self, hours_worked, hour_rate):\n",
        "    self.hours_worked = hours_worked\n",
        "    self.hour_rate = hour_rate\n",
        "\n",
        "  def calculate_payroll(self):\n",
        "    return self.hours_worked*self.hour_rate\n",
        "\n",
        "\n",
        "class FactoryWorker(Employee, FactoryRole,HourlyPolicy):\n",
        "  def __init__(self,id,name,hours_worked, hour_rate):\n",
        "    HourlyPolicy.__init__(self,hours_worked,hour_rate)\n",
        "    super().__init__(id,name)\n",
        "\n",
        "class TemporarySecretary(Employee, SecretaryRole,HourlyPolicy):\n",
        "  def __init__(self,id,name,hours_worked, hour_rate):\n",
        "    HourlyPolicy.__init__(self,hours_worked,hour_rate)\n",
        "    super().__init__(id,name)\n",
        "\n",
        "sales_guy = SalesPerson(3,\"Jiren\",1000,250)\n",
        "factory_worker = FactoryWorker(4,\"Jiren\",40,15)\n",
        "temporary_secretary = TemporarySecretary(5,\"Pokemon\",40,10)\n",
        "employees = [\n",
        "             manager,\n",
        "             secretary,\n",
        "             sales_guy,\n",
        "             factory_worker,\n",
        "             temporary_secretary\n",
        "]\n",
        "\n",
        "class ProductivitySystem:\n",
        "  def track(self,employees,hours):\n",
        "    print(\"Tracking Employees Productivity:\")\n",
        "    for employee in employees:\n",
        "      result = employee.work(hours)\n",
        "      print(f'{employee.name} : {result}')\n",
        "    print('')\n",
        "\n",
        "productivity_system = ProductivitySystem()\n",
        "productivity_system.track(employees, 40)\n",
        "\n",
        "payroll_system = PayrollSystem()\n",
        "payroll_system.calculate_payroll(employees)"
      ],
      "execution_count": 8,
      "outputs": [
        {
          "output_type": "stream",
          "text": [
            "Tracking Employees Productivity:\n",
            "He always screams for atleast 40 hours everyday\n",
            "Mary : None\n",
            "He always works for atleast 40 hours everyday\n",
            "John : None\n",
            "He always spends 40 hours on phone everyday\n",
            "Jiren : None\n",
            "He always works hard, breaking rocks for 40 hours everyday\n",
            "Jiren : None\n",
            "He always works for atleast 40 hours everyday\n",
            "Pokemon : None\n",
            "\n",
            "Calculating Payroll\n",
            "Payroll for:1 - Mary\n",
            "- Check amount:3000\n",
            "Address:\n",
            "5th Main\n",
            "Prestige Apartment\n",
            "Bangalore,BL,560031\n",
            "\n",
            "Payroll for:2 - John\n",
            "- Check amount:1500\n",
            "Address:\n",
            "23rd Main\n",
            "Prestige Apartment\n",
            "Bangalore,BL,560231\n",
            "\n",
            "Payroll for:3 - Jiren\n",
            "- Check amount:1250\n",
            "\n",
            "Payroll for:4 - Jiren\n",
            "- Check amount:600\n",
            "\n",
            "Payroll for:5 - Pokemon\n",
            "- Check amount:400\n",
            "\n"
          ],
          "name": "stdout"
        }
      ]
    },
    {
      "cell_type": "code",
      "metadata": {
        "id": "O3mClZgQlZHS"
      },
      "source": [
        ""
      ],
      "execution_count": null,
      "outputs": []
    }
  ]
}